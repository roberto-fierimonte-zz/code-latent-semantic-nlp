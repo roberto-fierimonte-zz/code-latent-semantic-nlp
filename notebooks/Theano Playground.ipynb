{
 "cells": [
  {
   "cell_type": "code",
   "execution_count": 236,
   "metadata": {},
   "outputs": [],
   "source": [
    "import theano\n",
    "import numpy as np\n",
    "import theano.tensor as T\n",
    "\n",
    "from theano.ifelse import ifelse\n",
    "from theano.printing import Print"
   ]
  },
  {
   "cell_type": "code",
   "execution_count": null,
   "metadata": {},
   "outputs": [],
   "source": []
  },
  {
   "cell_type": "code",
   "execution_count": 301,
   "metadata": {},
   "outputs": [
    {
     "name": "stdout",
     "output_type": "stream",
     "text": [
      "Sum(x) __str__ = 1.0\n"
     ]
    },
    {
     "data": {
      "text/plain": [
       "array(1.0, dtype=float32)"
      ]
     },
     "execution_count": 301,
     "metadata": {},
     "output_type": "execute_result"
    }
   ],
   "source": [
    "x = np.array([1, 0, -1])\n",
    "\n",
    "def conditional_sum():\n",
    "    \n",
    "    x = T.fvector('x')\n",
    "    \n",
    "    s = ifelse(T.gt(T.sum(T.eq(x,0)), 0), Print('Sum(x)')(T.sum(T.eq(x,0), dtype='float32')), T.sum(x) + 1)\n",
    "    \n",
    "    return theano.function([x], s, allow_input_downcast=True)\n",
    "\n",
    "f = conditional_sum()\n",
    "\n",
    "f(x)"
   ]
  },
  {
   "cell_type": "code",
   "execution_count": 296,
   "metadata": {
    "scrolled": true
   },
   "outputs": [
    {
     "data": {
      "text/plain": [
       "array([ 0.30282405,  0.12803105,  0.76441413,  0.15160133,  0.41486189,\n",
       "        0.81014425,  0.79314798,  0.83336681,  0.27174285,  0.77675211], dtype=float32)"
      ]
     },
     "execution_count": 296,
     "metadata": {},
     "output_type": "execute_result"
    }
   ],
   "source": [
    "x = np.random.rand(10, 8)\n",
    "i = np.array([4,3,1,6,0,2,2,0,7,1])\n",
    "i_one_hot = np.eye(10, dtype=np.bool)[i]\n",
    "\n",
    "def indexing():\n",
    "    \n",
    "    x = T.fmatrix('x')\n",
    "    i = T.ivector('i')\n",
    "    \n",
    "    res = x[T.arange(10), i]\n",
    "    \n",
    "    return theano.function([x, i], res, allow_input_downcast=True)\n",
    "\n",
    "f = indexing()\n",
    "\n",
    "f(x, i)"
   ]
  },
  {
   "cell_type": "code",
   "execution_count": 297,
   "metadata": {},
   "outputs": [
    {
     "data": {
      "text/plain": [
       "array([ 0.30282405,  0.12803105,  0.76441415,  0.15160133,  0.41486188,\n",
       "        0.81014427,  0.79314795,  0.83336681,  0.27174284,  0.77675212])"
      ]
     },
     "execution_count": 297,
     "metadata": {},
     "output_type": "execute_result"
    }
   ],
   "source": [
    "x[np.arange(len(x)), i]"
   ]
  },
  {
   "cell_type": "code",
   "execution_count": null,
   "metadata": {},
   "outputs": [],
   "source": []
  },
  {
   "cell_type": "code",
   "execution_count": 266,
   "metadata": {},
   "outputs": [
    {
     "data": {
      "text/plain": [
       "array([[ 0.,  0.,  0.,  0.,  1.,  0.,  0.,  0.,  0.,  0.],\n",
       "       [ 0.,  0.,  0.,  1.,  0.,  0.,  0.,  0.,  0.,  0.],\n",
       "       [ 0.,  1.,  0.,  0.,  0.,  0.,  0.,  0.,  0.,  0.],\n",
       "       [ 0.,  0.,  0.,  0.,  0.,  0.,  1.,  0.,  0.,  0.],\n",
       "       [ 1.,  0.,  0.,  0.,  0.,  0.,  0.,  0.,  0.,  0.],\n",
       "       [ 0.,  0.,  0.,  0.,  0.,  0.,  0.,  0.,  0.,  1.],\n",
       "       [ 0.,  0.,  1.,  0.,  0.,  0.,  0.,  0.,  0.,  0.],\n",
       "       [ 1.,  0.,  0.,  0.,  0.,  0.,  0.,  0.,  0.,  0.],\n",
       "       [ 0.,  0.,  0.,  0.,  0.,  0.,  0.,  0.,  1.,  0.],\n",
       "       [ 0.,  1.,  0.,  0.,  0.,  0.,  0.,  0.,  0.,  0.]])"
      ]
     },
     "execution_count": 266,
     "metadata": {},
     "output_type": "execute_result"
    }
   ],
   "source": [
    "i_one_hot"
   ]
  },
  {
   "cell_type": "code",
   "execution_count": 140,
   "metadata": {
    "scrolled": false
   },
   "outputs": [
    {
     "data": {
      "text/plain": [
       "[array([[4, 4, 4, 4, 4, 4, 4],\n",
       "        [6, 6, 6, 6, 6, 6, 6]]),\n",
       " array([10, 24]),\n",
       " array([[ 0.,  0.,  0.,  0.,  0.,  0.,  0.],\n",
       "        [ 0.,  0.,  0.,  0.,  0.,  0.,  0.]], dtype=float32)]"
      ]
     },
     "execution_count": 140,
     "metadata": {},
     "output_type": "execute_result"
    }
   ],
   "source": [
    "x = np.array([[1,2,3,4,9,9,9], [5,6,7,3,2,1,9]])\n",
    "\n",
    "def eos_mask():\n",
    "    \n",
    "    x = theano.gradient.disconnected_grad(T.imatrix('x'))\n",
    "    \n",
    "    mask = T.switch(T.eq(x, 9), T.arange(0, 7), 10)\n",
    "#     eos_index = mask[mask > 0]\n",
    "    eos_index = T.tile(mask.min(axis=-1), (7, 1)).T\n",
    "#     test = T.tile(T.arange(0, 7), (x.shape[0], 1))\n",
    "    binary_mask = T.where(T.ge(T.tile(T.arange(0, 7), (x.shape[0], 1)), eos_index), 0, 1)\n",
    "#     first_eos_index = eos_index[0] - 1 \n",
    "#     binary_mask = T.set_subtensor(mask[first_eos_index:], 1)\n",
    "    masked_sum = T.sum(T.switch(T.eq(binary_mask, 1), 1, 0) * x, axis=-1)\n",
    "    \n",
    "    return theano.function([x], [eos_index, masked_sum, T.grad(T.sum(masked_sum), x)], allow_input_downcast=True)\n",
    "\n",
    "f = eos_mask()\n",
    "\n",
    "f(x)"
   ]
  },
  {
   "cell_type": "code",
   "execution_count": 234,
   "metadata": {},
   "outputs": [
    {
     "data": {
      "text/plain": [
       "array([ 0.08683389,  0.77492368,  0.36511773,  0.73312443,  0.37144971], dtype=float32)"
      ]
     },
     "execution_count": 234,
     "metadata": {},
     "output_type": "execute_result"
    }
   ],
   "source": [
    "x = np.random.rand(4, 1, 3)\n",
    "m = np.random.randint(0, size=(4, 1, 3), dtype=np.int64, high=2)\n",
    "\n",
    "def bool_mask():\n",
    "    \n",
    "    x = T.ftensor3('x')\n",
    "    m = T.ltensor3('m')\n",
    "    \n",
    "    x = Print('x', ['shape'])(T.squeeze(x))\n",
    "    m = T.squeeze(x)\n",
    "    res = x[T.nonzero(m)]\n",
    "    \n",
    "    return theano.function(inputs=[x, m], outputs=res, allow_input_downcast=True)\n",
    "\n",
    "g = bool_mask()\n",
    "\n",
    "g(x, m)"
   ]
  },
  {
   "cell_type": "code",
   "execution_count": 216,
   "metadata": {},
   "outputs": [
    {
     "data": {
      "text/plain": [
       "array([[ 0.02847295,  0.48462557,  0.66341043],\n",
       "       [ 0.38974284,  0.55709656,  0.63985614],\n",
       "       [ 0.56891956,  0.29013549,  0.49927048],\n",
       "       [ 0.77266806,  0.3749504 ,  0.44598111]])"
      ]
     },
     "execution_count": 216,
     "metadata": {},
     "output_type": "execute_result"
    }
   ],
   "source": [
    "x"
   ]
  },
  {
   "cell_type": "code",
   "execution_count": 186,
   "metadata": {},
   "outputs": [],
   "source": [
    "x = np.array([[0,1,3,5,6,-1], [0,5,6,7,8,-1], [4,2,1,4,5,-1]])\n",
    "most_common = [1,2,5]\n",
    "vocab_size = x.max()"
   ]
  },
  {
   "cell_type": "code",
   "execution_count": 17,
   "metadata": {},
   "outputs": [],
   "source": [
    "from collections import Counter\n",
    "c = Counter([1,2,4,4])"
   ]
  },
  {
   "cell_type": "code",
   "execution_count": 112,
   "metadata": {},
   "outputs": [
    {
     "data": {
      "text/plain": [
       "array([0, 1, 3, 5, 6])"
      ]
     },
     "execution_count": 112,
     "metadata": {},
     "output_type": "execute_result"
    }
   ],
   "source": [
    "x = np.array([0,1,3,5,6,-1])\n",
    "most_common = [1,2,5]\n",
    "most_common = None\n",
    "x[(x >= 0) & (~np.in1d(x, most_common))]"
   ]
  },
  {
   "cell_type": "code",
   "execution_count": 174,
   "metadata": {},
   "outputs": [
    {
     "data": {
      "text/plain": [
       "{3}"
      ]
     },
     "execution_count": 174,
     "metadata": {},
     "output_type": "execute_result"
    }
   ],
   "source": [
    "s = set()\n",
    "s.add(3)\n",
    "set(s)"
   ]
  },
  {
   "cell_type": "code",
   "execution_count": 165,
   "metadata": {},
   "outputs": [],
   "source": [
    "def frequency_vec(x, exclude, max_index):\n",
    "    \n",
    "    def array_to_list(array):\n",
    "        c = Counter(array[(array >= 0) & (~np.in1d(array, exclude))])\n",
    "        l = np.zeros((max_index + 1))\n",
    "        l[list(c.keys())] = list(c.values())\n",
    "        return l\n",
    "\n",
    "    khot = np.array(list(map(lambda row: array_to_list(row), x)))\n",
    "    if exclude is None:\n",
    "        return khot\n",
    "    else:\n",
    "        return np.delete(arr=khot, axis=1, obj=exclude)\n",
    "    \n",
    "def theano_frequency_vec():\n",
    "    \n",
    "    X = T.matrix('X')   \n",
    "    ret = frequency_vec(x, most_common, vocab_size)\n",
    "    \n",
    "    return theano.function(inputs=[x], outputs=ret, allow_input_downcast=True)"
   ]
  },
  {
   "cell_type": "code",
   "execution_count": 141,
   "metadata": {},
   "outputs": [
    {
     "data": {
      "text/plain": [
       "array([[ 0.,  1.,  0.,  1.,  0.,  0.],\n",
       "       [ 0.,  0.,  0.,  1.,  1.,  1.],\n",
       "       [ 0.,  0.,  2.,  0.,  0.,  0.]])"
      ]
     },
     "execution_count": 141,
     "metadata": {},
     "output_type": "execute_result"
    }
   ],
   "source": [
    "frequency_vec(x, most_common, vocab_size)"
   ]
  },
  {
   "cell_type": "code",
   "execution_count": 185,
   "metadata": {},
   "outputs": [
    {
     "name": "stdout",
     "output_type": "stream",
     "text": [
      "None\n"
     ]
    }
   ],
   "source": [
    "most_common = set(most_common).add(3)\n",
    "print(most_common)"
   ]
  },
  {
   "cell_type": "code",
   "execution_count": 209,
   "metadata": {},
   "outputs": [
    {
     "data": {
      "text/plain": [
       "[1, 4, 5, 6]"
      ]
     },
     "execution_count": 209,
     "metadata": {},
     "output_type": "execute_result"
    }
   ],
   "source": [
    "a = [1,4,5]\n",
    "a.append(6)\n",
    "a"
   ]
  },
  {
   "cell_type": "code",
   "execution_count": 203,
   "metadata": {},
   "outputs": [
    {
     "data": {
      "text/plain": [
       "array([[ 1.,  1.,  0.,  1.,  0.,  1.,  0.,  0.],\n",
       "       [ 1.,  0.,  0.,  0.,  0.,  1.,  1.,  1.],\n",
       "       [ 0.,  1.,  1.,  0.,  2.,  1.,  0.,  0.]])"
      ]
     },
     "execution_count": 203,
     "metadata": {},
     "output_type": "execute_result"
    }
   ],
   "source": [
    "most_common = [6]\n",
    "frequency_vec(x, most_common, vocab_size)"
   ]
  },
  {
   "cell_type": "code",
   "execution_count": 22,
   "metadata": {
    "collapsed": true
   },
   "outputs": [],
   "source": [
    "def func(x, a=3, b=3):\n",
    "    return (x+a)**b"
   ]
  },
  {
   "cell_type": "code",
   "execution_count": 23,
   "metadata": {},
   "outputs": [],
   "source": [
    "x = T.scalar('x')\n",
    "out = func(x)\n",
    "f = theano.function([x], out)"
   ]
  },
  {
   "cell_type": "code",
   "execution_count": 93,
   "metadata": {
    "collapsed": true
   },
   "outputs": [],
   "source": [
    "def get_func(*args):\n",
    "    a = args[0]\n",
    "    b = args[1]\n",
    "    \n",
    "    x = T.scalar('x')\n",
    "    out = func(x, a, b)\n",
    "    return theano.function(inputs=[x], outputs=out)"
   ]
  },
  {
   "cell_type": "code",
   "execution_count": 94,
   "metadata": {},
   "outputs": [],
   "source": [
    "f = get_func(3,4)"
   ]
  },
  {
   "cell_type": "code",
   "execution_count": 95,
   "metadata": {},
   "outputs": [
    {
     "data": {
      "text/plain": [
       "array(2401.0, dtype=float32)"
      ]
     },
     "execution_count": 95,
     "metadata": {},
     "output_type": "execute_result"
    }
   ],
   "source": [
    "f(4)"
   ]
  },
  {
   "cell_type": "code",
   "execution_count": 98,
   "metadata": {
    "collapsed": true
   },
   "outputs": [],
   "source": [
    "def get_another_func(*args):\n",
    "    f1 = args[0]\n",
    "    \n",
    "    z = T.scalar('z')\n",
    "    out = np.sqrt(z + f1)\n",
    "    return theano.function(inputs=[z], outputs=out, on_unused_input='ignore')"
   ]
  },
  {
   "cell_type": "code",
   "execution_count": 101,
   "metadata": {},
   "outputs": [],
   "source": [
    "f2 = get_another_func(f(4))"
   ]
  },
  {
   "cell_type": "code",
   "execution_count": 102,
   "metadata": {},
   "outputs": [
    {
     "data": {
      "text/plain": [
       "array(49.02040481567383, dtype=float32)"
      ]
     },
     "execution_count": 102,
     "metadata": {},
     "output_type": "execute_result"
    }
   ],
   "source": [
    "f2(2)"
   ]
  },
  {
   "cell_type": "code",
   "execution_count": 35,
   "metadata": {},
   "outputs": [
    {
     "data": {
      "text/plain": [
       "49.020403915104573"
      ]
     },
     "execution_count": 35,
     "metadata": {},
     "output_type": "execute_result"
    }
   ],
   "source": [
    "np.sqrt(2+(4+3)**4)"
   ]
  },
  {
   "cell_type": "code",
   "execution_count": 36,
   "metadata": {
    "collapsed": true
   },
   "outputs": [],
   "source": [
    "def get_another_func_var(*args):\n",
    "    f = args[0]\n",
    "    x = args[1]\n",
    "    \n",
    "    f1 = f(x)\n",
    "    z = T.scalar('z')\n",
    "    out = np.sqrt(z + f1)\n",
    "    return theano.function(inputs=[z], outputs=out)"
   ]
  },
  {
   "cell_type": "code",
   "execution_count": 39,
   "metadata": {
    "collapsed": true
   },
   "outputs": [],
   "source": [
    "f3 = get_another_func_var(f, 4)"
   ]
  },
  {
   "cell_type": "code",
   "execution_count": 42,
   "metadata": {},
   "outputs": [
    {
     "data": {
      "text/plain": [
       "array(49.02040481567383, dtype=float32)"
      ]
     },
     "execution_count": 42,
     "metadata": {},
     "output_type": "execute_result"
    }
   ],
   "source": [
    "f3(2)"
   ]
  },
  {
   "cell_type": "code",
   "execution_count": 64,
   "metadata": {
    "collapsed": true
   },
   "outputs": [],
   "source": [
    "def g1():    \n",
    "    x = T.vector('x')\n",
    "    y = T.scalar('y')\n",
    "    z = x * T.shape_padright(y)\n",
    "    return theano.function([x,y], z, allow_input_downcast=True)"
   ]
  },
  {
   "cell_type": "code",
   "execution_count": 86,
   "metadata": {},
   "outputs": [],
   "source": [
    "f = g1()"
   ]
  },
  {
   "cell_type": "code",
   "execution_count": 67,
   "metadata": {},
   "outputs": [
    {
     "data": {
      "text/plain": [
       "array([  6.,   8.,  10.], dtype=float32)"
      ]
     },
     "execution_count": 67,
     "metadata": {},
     "output_type": "execute_result"
    }
   ],
   "source": [
    "g(np.array([3,4,5]), 2)"
   ]
  },
  {
   "cell_type": "code",
   "execution_count": 87,
   "metadata": {},
   "outputs": [],
   "source": [
    "def g2():\n",
    "    z = T.scalar('z')\n",
    "    w = T.scalar('w')\n",
    "    j = f(z) ** w\n",
    "    return theano.function([z,w], j, allow_input_downcast=True)"
   ]
  },
  {
   "cell_type": "code",
   "execution_count": 22,
   "metadata": {},
   "outputs": [],
   "source": [
    "import theano\n",
    "import theano.tensor as T\n",
    "\n",
    "import numpy as np\n",
    "\n",
    "from lasagne.layers import InputLayer, LSTMLayer, RecurrentLayer, BiasLayer, NonlinearityLayer, ConcatLayer, \\\n",
    "ElemwiseMergeLayer, get_output\n",
    "from lasagne.nonlinearities import sigmoid, softmax, tanh\n",
    "\n",
    "l_in = InputLayer((None, 40, 300))\n",
    "\n",
    "l_current = l_in\n",
    "\n",
    "for h in range(4):\n",
    "\n",
    "    l_current = LSTMLayer(l_current, num_units=500, nonlinearity=tanh)\n",
    "\n",
    "l_out = RecurrentLayer(l_current, num_units=300, W_hid_to_hid=T.zeros, nonlinearity=None)\n",
    "\n",
    "l_in_gate = InputLayer((None, 40, 300))\n",
    "\n",
    "l_bias = BiasLayer(l_out)\n",
    "l_sigm = NonlinearityLayer(l_bias, nonlinearity=sigmoid)\n",
    "\n",
    "def gate():\n",
    "    x = T.dtensor3('x')\n",
    "    y = T.dtensor3('y')\n",
    "    gate = (1 - x) * y\n",
    "    \n",
    "    return theano.function([x, y], gate, allow_input_downcast=True)\n",
    "\n",
    "gate_fn = gate()\n",
    "\n",
    "l_gate = ElemwiseMergeLayer([l_sigm, l_in_gate], merge_function=gate_fn)\n",
    "\n",
    "l_concat = ConcatLayer([l_out, l_gate], axis=0)\n",
    "l_final = BiasLayer(l_concat)"
   ]
  },
  {
   "cell_type": "code",
   "execution_count": 23,
   "metadata": {},
   "outputs": [],
   "source": [
    "data = np.random.randn(40, 300)\n",
    "fake_data = np.random.randn(30, 300)"
   ]
  },
  {
   "cell_type": "code",
   "execution_count": 24,
   "metadata": {},
   "outputs": [
    {
     "ename": "ValueError",
     "evalue": "get_output() was called with a single input expression on a network with multiple input layers. Please call it with a dictionary of input expressions instead.",
     "output_type": "error",
     "traceback": [
      "\u001b[0;31m---------------------------------------------------------------------------\u001b[0m",
      "\u001b[0;31mValueError\u001b[0m                                Traceback (most recent call last)",
      "\u001b[0;32m<ipython-input-24-f85a43d72fdc>\u001b[0m in \u001b[0;36m<module>\u001b[0;34m()\u001b[0m\n\u001b[0;32m----> 1\u001b[0;31m \u001b[0mget_output\u001b[0m\u001b[0;34m(\u001b[0m\u001b[0ml_final\u001b[0m\u001b[0;34m,\u001b[0m \u001b[0mdata\u001b[0m\u001b[0;34m)\u001b[0m\u001b[0;34m\u001b[0m\u001b[0m\n\u001b[0m",
      "\u001b[0;32m/Users/robertofiermonte/anaconda3/envs/lasagne/lib/python3.4/site-packages/lasagne/layers/helper.py\u001b[0m in \u001b[0;36mget_output\u001b[0;34m(layer_or_layers, inputs, **kwargs)\u001b[0m\n\u001b[1;32m    173\u001b[0m     \u001b[0;32melif\u001b[0m \u001b[0minputs\u001b[0m \u001b[0;32mis\u001b[0m \u001b[0;32mnot\u001b[0m \u001b[0;32mNone\u001b[0m\u001b[0;34m:\u001b[0m\u001b[0;34m\u001b[0m\u001b[0m\n\u001b[1;32m    174\u001b[0m         \u001b[0;32mif\u001b[0m \u001b[0mlen\u001b[0m\u001b[0;34m(\u001b[0m\u001b[0mall_outputs\u001b[0m\u001b[0;34m)\u001b[0m \u001b[0;34m>\u001b[0m \u001b[0;36m1\u001b[0m\u001b[0;34m:\u001b[0m\u001b[0;34m\u001b[0m\u001b[0m\n\u001b[0;32m--> 175\u001b[0;31m             raise ValueError(\"get_output() was called with a single input \"\n\u001b[0m\u001b[1;32m    176\u001b[0m                              \u001b[0;34m\"expression on a network with multiple input \"\u001b[0m\u001b[0;34m\u001b[0m\u001b[0m\n\u001b[1;32m    177\u001b[0m                              \u001b[0;34m\"layers. Please call it with a dictionary of \"\u001b[0m\u001b[0;34m\u001b[0m\u001b[0m\n",
      "\u001b[0;31mValueError\u001b[0m: get_output() was called with a single input expression on a network with multiple input layers. Please call it with a dictionary of input expressions instead."
     ]
    }
   ],
   "source": [
    "get_output(l_final, data)"
   ]
  },
  {
   "cell_type": "code",
   "execution_count": 7,
   "metadata": {},
   "outputs": [
    {
     "name": "stdout",
     "output_type": "stream",
     "text": [
      "(2, 2, 5)\n"
     ]
    },
    {
     "data": {
      "text/plain": [
       "array([[[  0.,   1.,   2.,   3.,   4.],\n",
       "        [ 10.,  11.,  12.,  13.,  14.]],\n",
       "\n",
       "       [[  5.,   6.,   7.,   8.,   9.],\n",
       "        [ 10.,  11.,  12.,  13.,  14.]]], dtype=float32)"
      ]
     },
     "execution_count": 7,
     "metadata": {},
     "output_type": "execute_result"
    }
   ],
   "source": [
    "from lasagne.layers import EmbeddingLayer, InputLayer, get_output\n",
    "import theano\n",
    "import theano.tensor as T\n",
    "import numpy as np\n",
    "x = T.imatrix()\n",
    "l_in = InputLayer((3, ))\n",
    "W = np.arange(3*5).reshape((3, 5)).astype('float32')\n",
    "l1 = EmbeddingLayer(l_in, input_size=3, output_size=5, W=W)\n",
    "output = get_output(l1, x)\n",
    "f = theano.function([x], output)\n",
    "x_test = np.array([[0, 2], [1, 2]]).astype('int32')\n",
    "print(f(x_test).shape)\n",
    "f(x_test)"
   ]
  }
 ],
 "metadata": {
  "kernelspec": {
   "display_name": "Python (lasagne)",
   "language": "python",
   "name": "lasagne"
  },
  "language_info": {
   "codemirror_mode": {
    "name": "ipython",
    "version": 2
   },
   "file_extension": ".py",
   "mimetype": "text/x-python",
   "name": "python",
   "nbconvert_exporter": "python",
   "pygments_lexer": "ipython2",
   "version": "2.7.13"
  }
 },
 "nbformat": 4,
 "nbformat_minor": 2
}
